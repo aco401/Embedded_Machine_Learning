{
 "cells": [
  {
   "cell_type": "code",
   "execution_count": 2,
   "metadata": {},
   "outputs": [
    {
     "name": "stdout",
     "output_type": "stream",
     "text": [
      "Prior to the change:  camo_night00125.png\n"
     ]
    }
   ],
   "source": [
    "import matplotlib.pyplot as plt\n",
    "import keras.preprocessing.image as kimg\n",
    "\n",
    "from skimage import data, color, io\n",
    "from skimage.transform import rescale, resize, downscale_local_mean\n",
    "\n",
    "import os\n",
    "Dir = \"./pics/front/Jan_19_hamburg_colors_night/data/phoneUP/\"\n",
    "letter = 'UP_'\n",
    "\n",
    "\n",
    "path, dirs, files = next(os.walk(Dir, topdown=True))\n",
    "print(\"Prior to the change: \",  files[0])"
   ]
  },
  {
   "cell_type": "code",
   "execution_count": 3,
   "metadata": {},
   "outputs": [
    {
     "name": "stdout",
     "output_type": "stream",
     "text": [
      "Shape before reshape:\n",
      "(128, 128, 3)\n"
     ]
    }
   ],
   "source": [
    "img_dir = Dir + files[0]\n",
    "#print(img_dir)\n",
    "pred_img = kimg.load_img(img_dir)\n",
    "pred_arr = kimg.img_to_array(pred_img)\n",
    "print(\"Shape before reshape:\")\n",
    "print(pred_arr.shape)"
   ]
  },
  {
   "cell_type": "code",
   "execution_count": 4,
   "metadata": {},
   "outputs": [],
   "source": [
    "for i in files:\n",
    "    #os.rename(Dir + i, Dir + i)\n",
    "    image = io.imread(Dir + i)\n",
    "    image_resize = resize(image, (128, 128), anti_aliasing=True)\n",
    "    io.imsave(Dir + i, image_resize)\n",
    "    #plt.imshow(image_resize, cmap='gray') "
   ]
  },
  {
   "cell_type": "code",
   "execution_count": 69,
   "metadata": {},
   "outputs": [
    {
     "name": "stdout",
     "output_type": "stream",
     "text": [
      "Shape after reshape:\n",
      "(128, 128, 3)\n"
     ]
    }
   ],
   "source": [
    "img_dir = Dir + files[0]\n",
    "#print(img_dir)\n",
    "pred_img = kimg.load_img(img_dir)\n",
    "pred_arr = kimg.img_to_array(pred_img)\n",
    "print(\"Shape after reshape:\")\n",
    "print(pred_arr.shape)"
   ]
  },
  {
   "cell_type": "code",
   "execution_count": null,
   "metadata": {},
   "outputs": [],
   "source": []
  }
 ],
 "metadata": {
  "kernelspec": {
   "display_name": "Python 3",
   "language": "python",
   "name": "python3"
  },
  "language_info": {
   "codemirror_mode": {
    "name": "ipython",
    "version": 3
   },
   "file_extension": ".py",
   "mimetype": "text/x-python",
   "name": "python",
   "nbconvert_exporter": "python",
   "pygments_lexer": "ipython3",
   "version": "3.8.2"
  }
 },
 "nbformat": 4,
 "nbformat_minor": 4
}
