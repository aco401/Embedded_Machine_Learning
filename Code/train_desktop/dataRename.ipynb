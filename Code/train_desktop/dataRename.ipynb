{
 "cells": [
  {
   "cell_type": "code",
   "execution_count": null,
   "metadata": {},
   "outputs": [],
   "source": [
    "import os\n",
    "Dir = \"pics/NotTrainedOn/combined/DARK_Seperation_Classes/crookedFRONT/\"\n",
    "letter = 'FRONT'\n",
    "\n",
    "\n",
    "path, dirs, files = next(os.walk(Dir, topdown=True))\n",
    "print(\"Prior to the change: \",  files[0])"
   ]
  },
  {
   "cell_type": "code",
   "execution_count": null,
   "metadata": {},
   "outputs": [],
   "source": [
    "for i in files:\n",
    "    os.rename(Dir + i, Dir + letter + i)\n",
    "    \n",
    "path, dirs, files = next(os.walk(Dir))\n",
    "print(\"After the change: \",  files)"
   ]
  },
  {
   "cell_type": "code",
   "execution_count": null,
   "metadata": {},
   "outputs": [],
   "source": []
  }
 ],
 "metadata": {
  "kernelspec": {
   "display_name": "Python 3",
   "language": "python",
   "name": "python3"
  },
  "language_info": {
   "codemirror_mode": {
    "name": "ipython",
    "version": 3
   },
   "file_extension": ".py",
   "mimetype": "text/x-python",
   "name": "python",
   "nbconvert_exporter": "python",
   "pygments_lexer": "ipython3",
   "version": "3.8.2"
  }
 },
 "nbformat": 4,
 "nbformat_minor": 4
}
