{
 "cells": [
  {
   "cell_type": "code",
   "execution_count": 4,
   "metadata": {},
   "outputs": [
    {
     "data": {
      "text/plain": [
       "1254056"
      ]
     },
     "execution_count": 4,
     "metadata": {},
     "output_type": "execute_result"
    }
   ],
   "source": [
    "import tensorflow as tf\n",
    "path = 'NN/keras/OneSort/OneColor/DayNight/'\n",
    "h5_name = 'D_14_H_19_M_29_312677param_32batch_30epoch_AUGset1_combined_1773smpl'\n",
    "model = tf.keras.models.load_model(path + h5_name + '.h5')\n",
    "converter = tf.lite.TFLiteConverter.from_keras_model(model)\n",
    "tflite_model = converter.convert()\n",
    "open(\"/NN/tflite/OneSort/OneColor/DayNight/\" + h5_name + \".tflite\", \"wb\").write(tflite_model)"
   ]
  },
  {
   "cell_type": "markdown",
   "metadata": {},
   "source": [
    "# TFmodel Test"
   ]
  },
  {
   "cell_type": "code",
   "execution_count": 48,
   "metadata": {},
   "outputs": [
    {
     "name": "stdout",
     "output_type": "stream",
     "text": [
      "[  1 128 128   3]\n",
      "[  1 128 128   3]\n",
      "[[[[0.82544317 0.79577329 0.68588343]\n",
      "   [0.60112292 0.98326374 0.3976966 ]\n",
      "   [0.24299201 0.53272478 0.02993952]\n",
      "   ...\n",
      "   [0.08168055 0.01692044 0.08637249]\n",
      "   [0.82873005 0.45113888 0.46182802]\n",
      "   [0.30026321 0.82419026 0.03535835]]\n",
      "\n",
      "  [[0.26876299 0.14835052 0.33926839]\n",
      "   [0.35445338 0.18402655 0.04596335]\n",
      "   [0.09739663 0.33088312 0.32687717]\n",
      "   ...\n",
      "   [0.57909425 0.444452   0.96259088]\n",
      "   [0.07729789 0.9574666  0.75547977]\n",
      "   [0.78863043 0.00390137 0.67617146]]\n",
      "\n",
      "  [[0.03678169 0.30716104 0.46262222]\n",
      "   [0.22367146 0.54403505 0.89224299]\n",
      "   [0.08450227 0.30364928 0.72479395]\n",
      "   ...\n",
      "   [0.32433091 0.0396551  0.84279524]\n",
      "   [0.45235343 0.37204993 0.84495357]\n",
      "   [0.40670467 0.7031939  0.01104353]]\n",
      "\n",
      "  ...\n",
      "\n",
      "  [[0.86628758 0.64191983 0.90233517]\n",
      "   [0.29425854 0.14865658 0.14423917]\n",
      "   [0.97347498 0.2046673  0.7637144 ]\n",
      "   ...\n",
      "   [0.52885244 0.83695012 0.4741401 ]\n",
      "   [0.30655546 0.22486981 0.45232204]\n",
      "   [0.3016976  0.45958795 0.48882776]]\n",
      "\n",
      "  [[0.82766318 0.88119624 0.07034849]\n",
      "   [0.29191637 0.7462295  0.95988829]\n",
      "   [0.24176641 0.40319787 0.51983515]\n",
      "   ...\n",
      "   [0.45602919 0.29327651 0.46390571]\n",
      "   [0.79754911 0.2546452  0.33235107]\n",
      "   [0.13982912 0.04716918 0.08373499]]\n",
      "\n",
      "  [[0.26820724 0.16144633 0.7794875 ]\n",
      "   [0.52523095 0.69895233 0.01369662]\n",
      "   [0.22112903 0.36661141 0.104543  ]\n",
      "   ...\n",
      "   [0.40974442 0.27273321 0.39704147]\n",
      "   [0.54680297 0.76282305 0.02679009]\n",
      "   [0.65819901 0.68591346 0.23123982]]]]\n",
      "[[0.0979061  0.01393657 0.8828084  0.00534886]]\n",
      "2\n"
     ]
    }
   ],
   "source": [
    "import numpy as np\n",
    "import tensorflow as tf\n",
    "\n",
    "# Load the TFLite model and allocate tensors.\n",
    "interpreter = tf.lite.Interpreter(model_path=\"converted_model.tflite\")\n",
    "interpreter.allocate_tensors()\n",
    "\n",
    "# Get input and output tensors.\n",
    "input_details = interpreter.get_input_details()\n",
    "output_details = interpreter.get_output_details()\n",
    "\n",
    "# Test the model on random input data.\n",
    "input_shape = input_details[0]['shape']\n",
    "print(input_shape)\n",
    "print(np.array([128, 128, 3]))\n",
    "print(np.random.random_sample(input_shape))\n",
    "\n",
    "input_data = np.array(np.random.random_sample(input_shape), dtype=np.float32)\n",
    "interpreter.set_tensor(input_details[0]['index'], input_data)\n",
    "\n",
    "interpreter.invoke()\n",
    "\n",
    "# The function `get_tensor()` returns a copy of the tensor data.\n",
    "# Use `tensor()` in order to get a pointer to the tensor.\n",
    "output_data = interpreter.get_tensor(output_details[0]['index'])\n",
    "print(output_data)\n",
    "\n",
    "\n",
    "max_output_index = np.argmax(output_data)\n",
    "print(max_output_index)\n",
    "\n"
   ]
  },
  {
   "cell_type": "code",
   "execution_count": 44,
   "metadata": {},
   "outputs": [
    {
     "name": "stdout",
     "output_type": "stream",
     "text": [
      "4\n"
     ]
    }
   ],
   "source": [
    "print(output_details[0]['shape'][1])"
   ]
  },
  {
   "cell_type": "code",
   "execution_count": null,
   "metadata": {},
   "outputs": [],
   "source": []
  }
 ],
 "metadata": {
  "kernelspec": {
   "display_name": "Python 3",
   "language": "python",
   "name": "python3"
  },
  "language_info": {
   "codemirror_mode": {
    "name": "ipython",
    "version": 3
   },
   "file_extension": ".py",
   "mimetype": "text/x-python",
   "name": "python",
   "nbconvert_exporter": "python",
   "pygments_lexer": "ipython3",
   "version": "3.8.2"
  }
 },
 "nbformat": 4,
 "nbformat_minor": 4
}
